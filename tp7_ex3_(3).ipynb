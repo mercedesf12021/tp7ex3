{
  "nbformat": 4,
  "nbformat_minor": 0,
  "metadata": {
    "colab": {
      "name": "tp7_ex3 (3).ipynb",
      "provenance": [],
      "authorship_tag": "ABX9TyP0dVxV0WTdm0DohNwLnBue",
      "include_colab_link": true
    },
    "kernelspec": {
      "name": "python3",
      "display_name": "Python 3"
    }
  },
  "cells": [
    {
      "cell_type": "markdown",
      "metadata": {
        "id": "view-in-github",
        "colab_type": "text"
      },
      "source": [
        "<a href=\"https://colab.research.google.com/github/mercedesf12021/tp7ex3/blob/main/tp7_ex3_(3).ipynb\" target=\"_parent\"><img src=\"https://colab.research.google.com/assets/colab-badge.svg\" alt=\"Open In Colab\"/></a>"
      ]
    },
    {
      "cell_type": "markdown",
      "metadata": {
        "id": "YaRSByZBUbCw"
      },
      "source": [
        "![TrianglePascal.png](data:image/png;base64,iVBORw0KGgoAAAANSUhEUgAAAlQAAAGUCAIAAAB8+itXAAAAAXNSR0IArs4c6QAAAARnQU1BAACxjwv8YQUAAAAJcEhZcwAADsMAAA7DAcdvqGQAAC8YSURBVHhe7Z3fi2T5ed7rD5i7upm7hb6Ym73I1cKgiwhRBgeMQCwMBBk3GIK9WWJMCAGLhAhC2gmhHbQRXkPkTDZxkk0Ge5LQWDFGWpxMJpEcba9XGyl4tONVslKPpMnKklvRDxZX5an+nj179nRN70yd5322nszzoRj1OdWCTz37nu9zzqmqmdkXdp5XXnnlf4QQQggkVqvV7OWXX767w3z1q1+FIUSNaMl6EWcZiVpDnDX4Os+OX7vTtneT7373uyk/AXGWkag1xFmDr/Ps5//+F7/69T9ru3aQlJ+GOMtI1BrirMHXeX3l9zeef+3o9r22d9dI+WmIs4xErSHOGnydZ3fv3v3J23/+qd9+/fl//yftiZ0i5achzjIStYY4a/B1Xpdf2/6d//RNXAKe/vDttrkjpPw0xFlGotYQZw2+zu+WH/ij17/3i7/2yv/+9g+77R0g5achzjIStYY4a/B1fk/5gW+99eNfeu7V//La/+m2P2hSfhriLCNRa4izBl/ncfmB0x++/cnr//PFz73ZbX+gpPw0xFlGotYQZw2+zhvKr/Gbv/v1g9/645+8/efdNoU//c4nPvOVn/3t75x02+9Pyk9DnGUkag1x1uDr/MDyAy8df+eXnnv1W2/9uNueTspvV4mzjEStIc4afJ0vKj/w+jd+gP6jfQs+5berxFlGotYQZw2+zu9TfuCtP/sJ7Vvwg/L70ue/8rOf+conXnmfy8qUn4Y4y0jUGuKswdf5/csP0L4F35ffG2+i+R7mEjDlpyHOMhK1hjhr8HV+qPJrEL4F35Xf19Z/fubNL3V7LyLlpyHOMhK1hjhr8HV+hPIDU78F38qve6T8dog4y0jUGuKswdf50coPTPoW/Du3Pb/0ytfW/ff573f7H0zKT0OcZSRqDXHW4Ov8yOUHtv8W/LsfePn+r68v/r72H/60e+ZBpPw0xFlGotYQZw2+ztuUX2Obb8G/W36r1cN95qWi/P7gze/+5X/0n//C3/xdPD70t37vt25/o3uCRNE0fP61e037r//LL3e7eNCd33rr7X/y0ut/8e/8fsv5557/wt37r3XPkaA73/3ej3715pd7548d3v7yN293z/EoGg+YN+2Pf/oP/+/33/+eyiPBdf7b/+a4qQ4fn/vKje5pEhU5H7385l/6By814R1fOrDK9ZM8fECbO9WCnD/5O1/ljnRz3r78AP9b8Oegl9+/fu3e+Zn49Zf+V/c0A/o0HH/7tG9rPHa//NB8f+U3/msv3B4/9Xf/4NtvMv/OPIEzfaUAFYsFprp3Tvk16Dmf16YfiURn3/K7/tIfj5zx4EbdnCeVHyB/C/4c3PLrF7i2QGCzDTR3Xa6YBlyF/LuXv9nkLcrvl3/zizdfXn83dFgqu3yS8cYbP/r552/DuTVHfwRynQF9PGD+0b/3Eha1v/bCFyHsUn70YEdwndvpBUJuUw3ufu9H3/r+19vPLOizMaTFTh8P+mGIYYbnP/yPXxseiRVL9NTyA8xvwZ+DW3792VB/mnl+z3SKJrhvEYvbnkOKiqTUuR+M3S+/Fi+mov2Q8mvEeUjFQtfgOvfl13u2044dLT9Q92/Bc8uvP33rL/zPZz2dogn2Lb+2cHBDBnXO/S2B3b/t2Ra1tjR4lV//+Klf/Xx/OUWE6NyvEn/1n73cvxf1scPbu/82dk/LnP7WA6A794feb7z0J59/512qivNmTvk1Kv4t+IryG05AP9bEcIsm2LT8+oR3/H4L6FXbY/c/8NKPRDurMC2/9tjlK+zRYPQPepcUHYZ1tzEA3RlT3X96qz3o50bNmVl+oH0L/vVv/KDbnkzKr8ex/Hrn3b+EAufXuIr+I2qP2s6l/Ib0p/a7fG7Ul0f/scOjl9/EJh4WNzPqLvsA3RmLxidefM/pEX31aM7k8gPfeuvHuP5j/Vvwue3ZY1d+EO7P8blrRKMo50a/KO/y2f3GS6j2cLnDDIqWZqLz+VWi4qQZVOTcN3fFugG4zn2wsMV5xvG3TyvOnpszv/xA+xb8P/89wlhoPvBSkSwdu/IrbT5QlHNP8y8666SQ8rsAovP5qqs4aQYVObf7AfQx7uE6X3Bzjhh1cy4pvwbKb/q/Bc8tvz7Hdo8FdfLLL/xhv9n90mSKVgqv8qtuPsB1xmnQzz3/hd9/7Tv9ZhuVXV6UR1jc9mw5/9E3OsP+Cps+1dyc+4ZuH3IpahT6bAwvpLpdbLjOrfzw6N/n+7e332h7nMoPTP8WPLf8QJva0WPHT9/6gRg+uIsy17k/5EaPXXbu7wqMHrv8QYwRLuV3Pmf6GQbg5rzxGNz92eiXO5dz0ActHRXXJw9Zfp9dzWarT3129aHZ+gc8Pts98b68/o0f/OKvvbL1t+Dp5QeGf3fOxw5v9yf7LOgTnPLbCD3n42+f/vzzt3vb4QUKEbp2j0X5gWHOuHii/+VVDXrO/d8viMfufz0DjG50dXvZVByGn3jxuD9DQtQf7F9vdlZ+Xee1n3+hPfEwnP7w7a2/BV9RftXQp0FAnGUkag1x1uDr/Cjl96FPdVu/gPL70Opr3dbD0L4Fj0e3/dCk/DTEWUai1hBnDb7OovJr4OLvUb8Fn/LTEGcZiVpDnDX4OkvLDzzqt+BTfhriLCNRa4izBl9ndfmBR/oWfMpPQ5xlJGoNcdbg6/wBlB94+G/Bp/w0xFlGotYQZw2+zg9ZfiU8zLfgU34a4iwjUWuIswZf5w+y/MD7fgs+5achzjIStYY4a/B1/oDLD1z8LfiUn4Y4y0jUGuKswdf5gy8/cMG34FN+GuIsI1FriLMGX+edKD/woG/Bp/w0xFlGotYQZw2+zrtSfo3z34JP+WmIs4xErSHOGnydd6v8wOhb8Ck/DXGWkag1xFmDr/POlR8Yfgs+5achzjIStYY4a/B13sXyA/234FN+GuIsI1FriLMGX+cdLb8Gyu+T//S1L/z3L3XbJmSCNTg6g0StIc4afJ1nn9tt/vG/eOnT/+q/wTWEEEKgsC6/9j87y47rbSTOGhydQaLWEGcNvs4pPz5x1uDoDBK1hjhr8HVO+fGJswZHZ5CoNcRZg69zyo9PnDU4OoNErSHOGnydU3584qzB0Rkkag1x1uDrnPLjE2cNjs4gUWuIswZf55QfnzhrcHQGiVpDnDX4Oqf8+MRZg6MzSNQa4qzB1znlxyfOGhydQaLWEGcNvs4pPz5x1uDoDBK1hjhr8HVO+fGJswZHZ5CoNcRZg69zyo9PnDU4OoNErSHOGnydU3584qzB0Rkkag1x1uDrnPLjE2cNjs4gUWuIswZfZ2b5HR8fL598cjWb4bGcz1fPPdc9MYGiZE9PTxeLxWw2Ozo66nbxyARrcHQGiVpDnDX4OtPKDy2yvHSpNd+7j4OD7ultqUgWqqi9RsqvEWcZiVpDnDX4OnPKDxdSy6tX0XbLxWJ1/z42V9eurTf39lbT/qV4erK4PJ3P54eHh60CU36NOMtI1BrirMHXmVN+6xue7bLvxo0H7dmOumRTfkPiLCNRa4izBl9nTvmtK6S9z3frVttzcnKyvHw55edCnGUkag1x1uDrTC2/wU3Od8tv2tt+dcmm/IbEWUai1hBnDb7OKb+U35o4y0jUGuKswdc5tz1TfmviLCNRa4izBl/n2g+8DOtwO+qSTfkNibOMRK0hzhp8nTnl11/n9V91WP70T/eb3S9tRV2yKb8hcZaRqDXEWYOvM6f81hwcrK/8Ro9p9zxBXbIpvyFxlpGoNcRZg68zr/zACy8sn3ii1d7yqaemNx+gJ9u+5I7aG7JYLNZfzCeRCdbg6AwStYY4a/B1ppZfAZkGDXGWkag1xFmDr3PKj0+cNTg6g0StIc4afJ1TfnzirMHRGSRqDXHW4Ouc8uMTZw2OziBRa4izBl/nlB+fOGtwdAaJWkOcNfg6p/z4xFmDozNI1BrirMHXOeXHJ84aHJ1BotYQZw2+zik/PnHW4OgMErWGOGvwdU758YmzBkdnkKg1xFmDr3PKj0+cNTg6g0StIc4afJ1TfnzirMHRGSRqDXHW4Ouc8uMTZw2OziBRa4izBl/nlB+fOGtwdAaJWkOcNfg6r8svhBBCeHzoyu+sC3eUHdfbSJw1ODqDRK0hzhp8nVN+fOKswdEZJGoNcdbg65zy4xNnDY7OIFFriLMGX+eUH584a3B0BolaQ5w1+Dqn/PjEWYOjM0jUGuKswdc55ccnzhocnUGi1hBnDb7OKT8+cdbg6AwStYY4a/B1TvnxibMGR2eQqDXEWYOvc8qPT5w1ODqDRK0hzhp8nVN+fOKswdEZJGoNcdbg65zy4xNnDY7OIFFriLMGX+eUH584a3B0BolaQ5w1+Dqn/PjEWYOjM0jUGuKswdc55ccnzhocnUGi1hBnDb7O7PK7eXP55JOr2Wy5v9/tmUZRsqenp4vFYjabHR0ddbt4xFmDozNI1BrirMHXmVZ+d+7cabXXHrtcfigPVEjDpUgcnatxdAaJWkOcNfg68678Dg6WTz21un59efXqLpff8fHxfD4/PDxsdWJRJI7OAhydQaLWEGcNvs7k256np6c7Xn49jkWS8hvi6AwStYY4a/B1Tvml/Nb4TrAdiVpDnDX4Oqf8Un5rfCfYjkStIc4afJ1Tfim/Nb4TbEei1hBnDb7OKb+U3xrfCbYjUWuIswZf55Rfym+N7wTbkag1xFmDr3PKL+W3xneC7UjUGuKswdeZVn7rFfmdb7j3j+Xe3uru3e43tqIu2ZTfEN8JtiNRa4izBl/nx6782hfGUSFDFosFrlm735hMnDU4OoNErSHOGnydybc96WQaNMRZRqLWEGcNvs4pPz5x1uDoDBK1hjhr8HVO+fGJswZHZ5CoNcRZg69zyo9PnDU4OoNErSHOGnydU3584qzB0Rkkag1x1uDrnPLjE2cNjs4gUWuIswZf55QfnzhrcHQGiVpDnDX4Oqf8+MRZg6MzSNQa4qzB1znlxyfOGhydQaLWEGcNvs4pPz5x1uDoDBK1hjhr8HVO+fGJswZHZ5CoNcRZg69zyo9PnDU4OoNErSHOGnyd1+UXQgghPD505XfWhTvKjuttJM4aHJ1BotYQZw2+zik/PnHW4OgMErWGOGvwdU758YmzBkdnkKg1xFmDr3PKj0+cNTg6g0StIc4afJ1TfnzirMHRGSRqDXHW4Ouc8uMTZw2OziBRa4izBl/nlB+fOGtwdAaJWkOcNfg6p/z4xFmDozNI1BrirMHXOeXHJ84aHJ1BotYQZw2+zik/PnHW4OgMErWGOGvwdU758YmzBkdnkKg1xFmDr3PKj0+cNTg6g0StIc4afJ1TfnzirMHRGSRqDXHW4Ouc8uMTZw2OziBRa4izBl9nWvmdnp6uDg6Wly6tZjM8lh/5yOrVV7vnJlCULGwXi8VsNjs6Oup28aA797aN/f397gkeyVmGo3acNcRZQ3PmlB/WuOXVq632+sdyb2919273G9tSkSwW4tYiwGJRRtv1hdfk6f2XnGU4asdZQ5w1NGde+f3Mz6yuX+9+7ovw4KD9wtbQkz0+Pp7P54eHh21pdlyU0Xx7e3snJyfdNoPkLMNRO84a4qyhOde854fO29Xy6/FdlNEou19+PSm/EY7acdYQZw3Nuab8rl3ryu/GjW7PttQl67soW1z59aT8Rjhqx1lDnDU0Z375YVFeXr6M5lsuFqv797u921KXrOmi3N9O7LZJJGcZjtpx1hBnDc2ZXH79G37L+Xx161a3dwJ1yTouyu3Dk/TLPpCcZThqx1lDnDU0Z2b5YWkm3vBs1CXruCjv7+/jsg8Xf902j+Qsw1E7zhrirKE5U6/82M0H6pK1W5QPDw+LhEFyluGoHWcNcdbQnHnlV9B8oC5Zr0W5NR/9rb6e5CzDUTvOGuKsoTlzyq//kMvoMf177nXJGi3KTbWu+UByluGoHWcNcdbQnB+78muflsRyPGSxWKzfsCTBdW4fculEB3D/kpfkLMNRO84a4qyhOVPf8ysg06AhzjIStYY4a/B1TvnxibMGR2eQqDXEWYOvc8qPT5w1ODqDRK0hzhp8nVN+fOKswdEZJGoNcdbg65zy4xNnDY7OIFFriLMGX+eUH584a3B0BolaQ5w1+Dqn/PjEWYOjM0jUGuKswdc55ccnzhocnUGi1hBnDb7OKT8+cdbg6AwStYY4a/B1TvnxibMGR2eQqDXEWYOvc8qPT5w1ODqDRK0hzhp8nVN+fOKswdEZJGoNcdbg65zy4xNnDY7OIFFriLMGX+d1+YUQQgiPD135nXXhjrLjehuJswZHZ5CoNcRZg69zyo9PnDU4OoNErSHOGnydU3584qzB0Rkkag1x1uDrnPLjE2cNjs4gUWuIswZf55QfnzhrcHQGiVpDnDX4Oqf8+MRZg6MzSNQa4qzB1znlxyfOGhydQaLWEGcNvs4pPz5x1uDoDBK1hjhr8HVO+fGJswZHZ5CoNcRZg69zyo9PnDU4OoNErSHOGnydU3584qzB0Rkkag1x1uDrnPLjE2cNjs4gUWuIswZf55QfnzhrcHQGiVpDnDX4OtPK7969e8tnnlleurSazfBYPvXU6tat7rkJFCV7enq6WCxms9nR0VG3iwfdubdt7O3tnZycdM+RiHNP6WyAIu1S4qwhzhqaM6f8sF4sr15ttdc/lvP59P6rSBaLWluRgUX57e/vHx4etp9RISgSepfEuVE9G6BCu5o4a4izhubMKb/1ovbhD6+uX1/dv7/ePjjoKhA/TIOe7PHx8Xw+x7rcljmL8hsBebwEvJBum0GcgWA2QHXUFcRZQ5w1NOeS9/ywiHT3P3ev/HpSfkPiPCTlNyLOGuKsoTnzy+/09HR17dou3/ZsmJZf00aXdNsk4jykbjZAadRFxFlDnDU0Z1r5nZycLC9f7u527vwHXkDdAkd3Hn14hN4iIM5DUn4j4qwhzhqac1X5sfqvLlmj8hvSPjziddvTzjnlNyLOGuKsoTmXvOe3unmzvee33Ntb3b3b7dyKumRNyw+0Ltnf3++2GcR5SMpvRJw1xFlDc64pP0B6268uWd/ya3cUwfrtVRJxHpLyGxFnDXHW0Jw55bf+eOdHPrK6cePdzbNboLnyqyBXfg3H2QDVUVcQZw1x1tCceeX3zt/t8p5HvuowmVYbvWe7hNrx988cnYfUzQao064jzhrirKE502573rlzZ/0993dqb30hePt299wE6Mli/cUqjKVtyI7fjmtrcQ/XthFnIJgNQNcWEGcNcdbQnMve8yORadAQZxmJWkOcNfg6p/z4xFmDozNI1BrirMHXOeXHJ84aHJ1BotYQZw2+zik/PnHW4OgMErWGOGvwdU758YmzBkdnkKg1xFmDr3PKj0+cNTg6g0StIc4afJ1TfnzirMHRGSRqDXHW4Ouc8uMTZw2OziBRa4izBl/nlB+fOGtwdAaJWkOcNfg6p/z4xFmDozNI1BrirMHXOeXHJ84aHJ1BotYQZw2+zik/PnHW4OgMErWGOGvwdU758YmzBkdnkKg1xFmDr/O6/EIIIYTHh678zrpwR9lxvY3EWYOjM0jUGuKswdc55ccnzhocnUGi1hBnDb7OKT8+cdbg6AwStYY4a/B1TvnxibMGR2eQqDXEWYOvc8qPT5w1ODqDRK0hzhp8nVN+fOKswdEZJGoNcdbg65zy4xNnDY7OIFFriLMGX+eUH584a3B0BolaQ5w1+Dqn/PjEWYOjM0jUGuKswdc55ccnzhocnUGi1hBnDb7OKT8+cdbg6AwStYY4a/B1TvnxibMGR2eQqDXEWYOvc8qPT5w1ODqDRK0hzhp8nVN+fOKswdEZJGoNcdbg68wvv+Uzz6xmMzyWi8Xq/v1u77YUJXt6erpYLGaz2dHRUbeLR9009Nr7+/vdLhJFzsfHx/P5HMKNw8PD7gkGjjmDCu3SeQZ1UdcRZw2+zuTyWx97Z823y+UHybOleI1X+aE80CVXrlyxKD/YFiXccMwZ0LWr5xnURV1HnDX4OjPL7+TkZHn58nI+X370oztbfu1aBKtbWzKMyg/x7u3tvfjiizjH3/3y63PutgtwzBlwtQXzDIqiLiXOGnydqVd+BwfrzsN60X7Y4duewK78sBBjOb53755F+WE5RoWgSLrtAhxzBkXaKb8Rcdbg60wrP5yBLi9dWu7tre7eTfl1P/FAvFeuXMGf7d2dHS+/JgnwQ7erAMecQdFIp/xGxFmDrzOn/LBSLK9eReGtbtxYb6f8qAwX4qJFmevcJJ9++mn8iZAb+Bn7u99g4JgzKBrplN+IOGvwdSZd+Y3aLuVHBZL9LUSL8mtvm83nc1xCDfdw+88xZ1A00nXzDOoOwzrirMHXmVR+166tL/s2Ptq14LbUJVu3WHCdW230nxyxKL+NkngJwzqcjmPOoGikU34j4qzB1znlt+vl1zw3QpTnOrfmAPih27Xz5afJGRSNdPPnqvbUHYZ1xFmDrzPtAy/vIbc9y7C48gPnP+0J59GeiTjmDIq0U34j4qzB1znll/JbQ3fGFR6u83rPlnZ/U5GCY86gSDvlNyLOGnydH7vya4sylokhoxt0EymdBpfyA6Oo6euyY86Aqy2YZ1AadRFx1uDrXFN+PDINGuIsI1FriLMGX+eUH584a3B0BolaQ5w1+Dqn/PjEWYOjM0jUGuKswdc55ccnzhocnUGi1hBnDb7OKT8+cdbg6AwStYY4a/B1TvnxibMGR2eQqDXEWYOvc8qPT5w1ODqDRK0hzhp8nVN+fOKswdEZJGoNcdbg65zy4xNnDY7OIFFriLMGX+eUH584a3B0BolaQ5w1+Dqn/PjEWYOjM0jUGuKswdc55ccnzhocnUGi1hBnDb7O6/ILIYQQHh+68jvrwh1lx/U2EmcNjs4gUWuIswZf55QfnzhrcHQGiVpDnDX4Oqf8+MRZg6MzSNQa4qzB1znlxyfOGhydQaLWEGcNvs4pPz5x1uDoDBK1hjhr8HVO+fGJswZHZ5CoNcRZg69zyo9PnDU4OoNErSHOGnydU3584qzB0Rkkag1x1uDrnPLjE2cNjs4gUWuIswZf55QfnzhrcHQGiVpDnDX4Oqf8+MRZg6MzSNQa4qzB1znlxyfOGhydQaLWEGcNvs4pPz5x1uDoDBK1hjhr8HVO+fGJswZHZ5CoNcRZg68zr/yuXVvNZuPHjRvds9tSlOzp6elisZjNZkdHR90uHnRnSEJ1yN7e3snJSfc0A5bzBcFCGNrNH0xP3tEZcMdDMBug4jAsPQZBhXM1cdbQnB/H8huuFxUHHt0ZkvP5/Pj4uNsugOJ8QbCQx0s4PDxsm/jh/O88Ko7OgDse8KmeDVAx0i1zMD3SjdCdBcRZQ3Nml9/BQbdJgp5sv6K1w6/iwKM7Cxa46c4XB7u/v4/TfJzst8121j/cswWOzoA7HoLZAFxnwTEI6IehgDhraM6PXfn11B14dGfBAkd0Ph9su3mIxa7bPgObE1+UozPgjodgNkDRYXg+diJFzqXEWUNzrrrtubxyZXX9evfUBOqSrTvw6M6CBY7ofD5YmMN/FPX5X3tUHJ0Bdzwgk/LbSJFzKXHW0JyL3/ObfCFYl2zdgUd3bqo9FYsd0fl8sBuj3rjzkXB0BtzxaEo9RUVYdBhS8nwQRc6lxFlDc+aV35CbN5eXLqH8lovF6v79budW1CVbd+BVT8P+/j7dnOh8PtiNUW/c+Ug4OoPS8aiYDVDkTMnzQVQfhhXEWUNzrik/cHYhuNzbW9292+3Zirpk6w686mlob0dhmeu2GRCdzweb255DSsejYjZAkTMlzwdRfRhWEGcNzTnlxz/wqqeB9bHDIUTn88G2IvH6wEuRMygdj4rZAEXO52MnUn0YVhBnDc2ZU35YDpYf+cjq9u1uu7/tOfkMtC7ZugOvehrsrvzOr8iUNdrRGZSOR678eqoPwwrirKE588rvrO2Gj+mXfaAu2boDj+vc1tzes21igcMy1/ZQIDpvDLbt7C+kdu0SSuYMiNqa2QBFh+HG2FkUOZcSZw3NmXbb886dO6sPf7irvfl8+eyzEz/q0qAni8ULSxgOuSHTT+eH0J3bGtHDtW1Md37fYIevYkdaRO8MuOMhmA3AdRYcg4B+GAqIs4bmXPaeH4lMg4Y4y0jUGuKswdc55ccnzhocnUGi1hBnDb7OKT8+cdbg6AwStYY4a/B1TvnxibMGR2eQqDXEWYOvc8qPT5w1ODqDRK0hzhp8nVN+fOKswdEZJGoNcdbg65zy4xNnDY7OIFFriLMGX+eUH584a3B0BolaQ5w1+Dqn/PjEWYOjM0jUGuKswdc55ccnzhocnUGi1hBnDb7OKT8+cdbg6AwStYY4a/B1TvnxibMGR2eQqDXEWYOvc8qPT5w1ODqDRK0hzhp8ndflF0IIITw+dOV31oU7yo7rbSTOGhydQaLWEGcNvs4pPz5x1uDoDBK1hjhr8HVO+fGJswZHZ5CoNcRZg69zyo9PnDU4OoNErSHOGnydU3584qzB0Rkkag1x1uDrnPLjE2cNjs4gUWuIswZf55QfnzhrcHQGiVpDnDX4Oqf8+MRZg6MzSNQa4qzB1znlxyfOGhydQaLWEGcNvs4pPz5x1uDoDBK1hjhr8HVO+fGJswZHZ5CoNcRZg69zyo9PnDU4OoNErSHOGnydU3584qzB0Rkkag1x1uDrnPLjE2cNjs4gUWuIswZfZ3b5vfDC8oknVrMZHsv5fPXcc93+bSlK9vT0dLFYzGazo6OjbhePIufj4+P5fA7nxuHhYfcEA5bzg4LFZtPu2dvbOzk56Z7eiunOvW1jf3+/e+IdYAjP7mnStFCiVuYMKka6dJ5BhXPpugEqnKvxdaaW37Vrrfb6x/LcavKoVCQ7XCAqhrjCGUtDkW2D4nxBsNjESof1rttmMN0ZbdcXXpMf9l9bnftFmfWfYLq2OGdAH+nqeQZ05wtiZ0F3FuDrTCu/9TS0q73r19uee/furd54o/28NfRk+xWtjXLFENc5d9sFTHe+OFhs0hdles5ovuF1EjZxmo+T/bbZzvqHe7ZjorY+Z8CNWjDPoMh5Y+ws6CMtwNeZd+XXLvsODrpNEnXJ1g0x3RmHHOXm1QUQnTcGi83dL79hzu2G52iBxub0V8HSluUMuFEL5hnQx6OxMXYWRc6l+Dpzyg9zvLx8eX3l97GPvfue31NPrV59tfuNbalLtm6Iuc6sC46LITpvDBabu19+wyu/dqZ//lVMnxmW9kYZbO54+WnmGdDHo0GZgQdR5FyKrzO5/EaP5d7e6u7d7pe2oi7ZuiHmOrfF4umnn8afEG7Q1w6i88Zg284eygLNzbm1XX+pd8GrGO18VFjaFxj2sIqQGLVmngF3PHooM/AgipxL8XXmlB8OsOWlS+u2e/bZ1f37610vvNBV4I0bZ7+yJXXJ1g0x17ndfxuuYm0Pd70gOj9MsLjGmh4+0bmtyMN7cRtfxcO8tPeFpf0wMpScATFqzTwD7mHYQ5mBB1HkXIqvM/vK752qe3fPtHcB65KtG2Kuc1uXsYp122dQ3nwaQnR+mGDbejd6UY8K0RkmozzxM/aMXgVlZljaspwBMWrNPAPuYdhDmYEHUeRciq8zu/zeqbrzdbgddcnWDTHXuS0WYHhe7F5+G1/Uo8JyRpjnhVv59XdBG5TYWdqynAFxPDYqpfwaRc6l+Dpzym/N2ac912/ytQ+5oAWxOZ+vbt06e3pL6pKtG2K6M5aG4R05gBPn0Z6JEJ0fJljKFQnFuTXfqOTA+TV646q9BayoZTkD7kgL5hnQD8PGw8S+NUXOpfg608pvPQ24zhs9Jn/zoS7ZuiGmO7erkH4Ja+bn1+spEJ3PB9tqo9/TNqcvdtOdL05y9Cx+oFydEI84Tc6AO9KCeQb0w7BxPnYiRc6l+DrzrvzAzZvLJ59stbe8cqX/tvsU6Mm2Aw/jO2T66fyQimkYadOPvenOFwfbloweSuATnVs3dEIDhtdJQ21K84GJ2vqcQfVhWNElXOeLY2dBz1mArzO1/ArINGiIs4xErSHOGnydU3584qzB0Rkkag1x1uDrnPLjE2cNjs4gUWuIswZf55QfnzhrcHQGiVpDnDX4Oqf8+MRZg6MzSNQa4qzB1znlxyfOGhydQaLWEGcNvs4pPz5x1uDoDBK1hjhr8HVO+fGJswZHZ5CoNcRZg69zyo9PnDU4OoNErSHOGnydU3584qzB0Rkkag1x1uDrnPLjE2cNjs4gUWuIswZf55QfnzhrcHQGiVpDnDX4Oq/LL4QQQnh86MrvrAt3lB3X20icNTg6g0StIc4afJ1TfnzirMHRGSRqDXHW4Ouc8uMTZw2OziBRa4izBl/nlB+fOGtwdAaJWkOcNfg6p/z4xFmDozNI1BrirMHXOeXHJ84aHJ1BotYQZw2+zik/PnHW4OgMErWGOGvwdU758YmzBkdnkKg1xFmDr3PKj0+cNTg6g0StIc4afJ1TfnzirMHRGSRqDXHW4Ouc8uMTZw2OziBRa4izBl/nlB+fOGtwdAaJWkOcNfg6p/z4xFmDozNI1BrirMHXOeXHJ84aHJ1BotYQZw2+zpzyOz4+Xl66tJrNRo/lfL66dav7pa0oSvb09HSxWMxms6Ojo24XD67zycnJ3t4eVEfs7+93v8FgunMfaWOjHjd2ujNyRtrdc6sVJLsn3mH0C9sxUfv/A2fBbADiYag5BgHRuYce7IgK52qa8+NYfsMFomIgqqcBac/n88PDw26bwXRnLAT9WtASHi0N9Ngpzn2MbYEbVgUkkTPSbpssJmqbOoP2s2Y2QOlhWHEMArpzRbAjSnMuojmX3fa8dm1dfovF6v79bs9W0PX6qW1jUTEQ1dOAhWO43lGgO48kK2KnO0Nv2ByQ3MEiGeHoLJgNUHoYVhyDgOtcFOyI0pyLaM4l5YfQuwvBGze6XdtSl2zdQJROA443HHWjE+fp0J1xyG1cHYixVzjbFYmpc/VsgLrDsOgYBEXO3GBH1OVcR3OuufJrl317e6u7d7s921KXbN1AlE7DaLFjQXd+0KkxMXaucxNDvN322Z4dj9rRGQhmA9QdhkXHIChy5gY7oi7nOpozv/wwE91l38FBt2sCdcnWDUSdc3vvGuCHbhcJrjNmAKvDcFHuIcY+3Xn0QYyRcFPtYa13E7UdnYdoZgMUHYZ1xyAocuYGO6LIuZTmXHDlx7vsA3XJ1g3EY+7cVoeNp/aA+BK4Obd7WRe0Ba5XKOZEbTtn2WyAosOQKzkizhqaM7n8cBC2y74l6YZ4XbJ1A1HkfPHCMRGiMxbcC5ZjYuz0nFuXwL/bfi8XP/vwcLW9nGWzASoOw9JjEFQ4A26wI4qcS2nO7Cu/g4N1803+hkNPXbJ1A1HkjCXjQfeLpsNyht7FqRJjp+fcljaAH7pdAy5+9uHhahs5K2cDVByGpccgqHAG3GBHFDmX0pyZ5YezoeXly8TLPlCXbN1AFDlffNY8EYpzW90uXhqIsdNz9rqKarg4i2cDVByGpccgqHAG3GBHFDmX0pypV35nl33rx+RvOPTUJVs3EBXOrFXsQUx3bnm+70kxMfaJzi3S3qRdJPVLW9scPYvfx/+r7dmaKdqOzgBK4tkA9MOw+hgEdOcGN9gRRc6lNGda+WEyusu+yV9sH0JPtt24wCgMwRqBlaL7jclUTEM7cS4aXzDRua2zLcwh/UpREfv0nNui0DPyufjZrZmobecMAWh0QgNKZwPQD8PqYxBwnQVrHaDnLKA5s9/zY+ObrBdxlpGoNcRZg69zyo9PnDU4OoNErSHOGnydU3584qzB0Rkkag1x1uDrnPLjE2cNjs4gUWuIswZf55QfnzhrcHQGiVpDnDX4Oqf8+MRZg6MzSNQa4qzB1znlxyfOGhydQaLWEGcNvs4pPz5x1uDoDBK1hjhr8HVO+fGJswZHZ5CoNcRZg69zyo9PnDU4OoNErSHOGnydU3584qzB0Rkkag1x1uDrnPLjE2cNjs4gUWuIswZf55QfnzhrcHQGiVpDnDX4Oq/LL4QQQnh86MrvrAt3lB3X20icNTg6g0StIc4afJ1TfnzirMHRGSRqDXHW4Ouc8uMTZw2OziBRa4izBl/nlB+fOGtwdAaJWkOcNfg6p/z4xFmDozNI1BrirMHXOeXHJ84aHJ1BotYQZw2+zik/PnHW4OgMErWGOGvwdU758YmzBkdnkKg1xFmDr3PKj0+cNTg6g0StIc4afJ1TfnzirMHRGSRqDXHW4Ouc8uMTZw2OziBRa4izBl/nlB+fOGtwdAaJWkOcNfg6p/z4xFmDozNI1BrirMHXOeXHJ84aHJ1BotYQZw2+ztTye+GF5RNPrGYzPJbz+fLZZ1f373dPbUtRsqenp4vFYjabHR0ddbt4VDjDE7Y9h4eH3RMkpjv3kTb29/e7J96B/hKmO4+UwN7e3snJSff0GcfHx/P5vHv6g9aGGww7lQHDtEe/Q5nwiVHb5Qz08wymj/SICskRdOeGYInmld/BQau94WN5bmIelYpkhwNRlyyRJtyrtk3uHE93xurQLxDNcLheVLyE6c7QwIKLZbfbPgcMh9oUuOPROqNPcrTJ8p/o7Jizfp4BdzaKJEdwnRtNtdH7E2nOnPLDSdzy8uV12/3Kr3RXe2dduNzbW929e/YrW0JPtl8dRpNBhO6Mow4nQTgVapvtnGh4KE6nwnl4dl/xEqY747/+BYvyqEhYcKN+mJyHe7ZjovNjkvPEeQZ05wrJEVxnIFuiyeW3unGj7Vkb72T59VQnS2R04OEHbHKHmO6M2R0tFvSXMN0Z//UvWJRHL4EFMepRjG1z1CLYvOA1PiQTnd1zBoJ5BlznIskRXOch1Us077bntWvrtpvP19d8N28uL11adyF+noZvskTaqVCb43b6NpxpCnTn0YFX8RKmO1+wKDdJ0J84syBGPSq2FvJopClzPtHZPWcgmGfAdS6SHMF1HkIZ3Y00Z1r5IdzlM8+sC69/XL/ePTcB32S5tDmGMKCfuwGuc7MdXYLQX8J05zYDPdCDZHuqLRZPP/00/uyens0oazTxiIPPUGnjSFPmfKKzdc5AM8+AexiCCskRdOceyuhupDlTy+/jHx+W3/oq8Nat7ult8U2WCw482F65cqWNMmV1GEJ0bsvZ+XNM+kug54zVoR8JyOMlQLVfptue3dE+P8AbR3rjzkeFG7VXzrJ5BvSRrl43AN25hzK6G2nO7A+84OTi/v07d+4sr16l9J9vskSwWAxXh2bOnWOi88i2UfES6Dm3ZReq+Lktee3nHiwl51/ao0LRbnqjFRli0BuNNGXOuVEb5QxGo9sY7WQdktyciyRH0A/DHsrobqQ5c8pv7ffej7f0ddh/BGY7fJNl0VY0LAfd9hmU1WEIy7mdaY5SLXoJ9NloC3FbHYY/d0/v0qK8MdKinAE36mG2w5+7p3fJGSayeQbEnOskR9APw57qJZpZfutH/z7fpz/d7Un5TUMzxBRnWCHSkSooegn02RhekQAYji6t8NRozxZQtDdejpwvko3VsgXcqF1yhphyngEx5zrJEfTDsMej/DCm3XXeex/LxWLiX/LimyyLtn4NR7aNdb92UJju3PI8v1KAopcw0blZ9QPQNodr7kjyghf4SEyPelQeQ0aSrMVuirNpzhdoFM0zmD4bPXWSI4jOI9p/gn5yiDRn2gde1u/zffzj3TccUHtXruzmX2/WJgCZDsGUYFa635hMxTRgZDvXM6YvDSMmOrcjrZMbMDzS6C9hes7t6Oo5PwajaaEch9O1Ed0FMsMXNVz7pjDR2S7nD2SewfTZGFG9bgC6s2yJppVfETuut5E4a3B0BolaQ5w1+Dqn/PjEWYOjM0jUGuKswdc55ccnzhocnUGi1hBnDb7OKT8+cdbg6AwStYY4a/B1TvnxibMGR2eQqDXEWYOvc8qPT5w1ODqDRK0hzhp8nVN+fOKswdEZJGoNcdbg65zy4xNnDY7OIFFriLMGX+eUH584a3B0BolaQ5w1+Dqn/PjEWYOjM0jUGuKswdc55ccnzhocnUGi1hBnDb7OKT8+cdbg6AwStYY4a/B1XpdfCCGE8PiwLr+zIgwhhBAeG1ar/wcXOr7yYkKT+QAAAABJRU5ErkJggg==)"
      ]
    },
    {
      "cell_type": "code",
      "metadata": {
        "id": "k6LPdACAUgQW"
      },
      "source": [
        "def factorielle(n):\n",
        "  fact = 1\n",
        "  for i in range(1, n + 1):\n",
        "    fact = fact * i\n",
        "  return fact\n",
        "\n",
        "def coefficient_binomial(n, k):\n",
        "  coeff = factorielle(n) // (factorielle(k) * factorielle(n - k))\n",
        "  return coeff"
      ],
      "execution_count": 12,
      "outputs": []
    },
    {
      "cell_type": "code",
      "metadata": {
        "id": "bzzZnM20sjdk"
      },
      "source": [
        "def triangle_pascal1(n):\n",
        "  final_list = []\n",
        "  for n in range(n+1):\n",
        "    temp_list = []\n",
        "    for k in range(n+1):\n",
        "      c = coefficient_binomial(n,k)\n",
        "      temp_list.append(c)\n",
        "      # print(\"coefficient_binomial({},{}) = \".format(n,k),c)\n",
        "    final_list.append(temp_list)\n",
        "\n",
        "  return final_list"
      ],
      "execution_count": null,
      "outputs": []
    },
    {
      "cell_type": "code",
      "metadata": {
        "id": "RQ3wMDx9l-cv"
      },
      "source": [
        "def triangle_pascal2(n):\n",
        "  final_list1 = []\n",
        "  for n in range(n+1):\n",
        "    temp_list1 = []\n",
        "    for k in range(n+1):\n",
        "      if k == 0 or k == n:\n",
        "        temp_list1.append(1)\n",
        "      else:\n",
        "        temp_list1.append(final_list1[n-1][k-1] + final_list1[n-1][k])\n",
        "    final_list1.append(temp_list1)\n",
        "    \n",
        "  return final_list1"
      ],
      "execution_count": 40,
      "outputs": []
    },
    {
      "cell_type": "code",
      "metadata": {
        "id": "wpWXtbcjynUr"
      },
      "source": [
        "def display_with_list(liste):\n",
        "  for x in liste:\n",
        "    print(x)"
      ],
      "execution_count": 48,
      "outputs": []
    },
    {
      "cell_type": "code",
      "metadata": {
        "id": "a5eetJpUz2Yv"
      },
      "source": [
        "def display_with_range(my_list, n):\n",
        "  for x in range(n+1):\n",
        "        print(my_list[x])"
      ],
      "execution_count": 49,
      "outputs": []
    },
    {
      "cell_type": "code",
      "metadata": {
        "id": "8oaMeDCvzCUg"
      },
      "source": [
        "n = int(input(\"Afficher le triangle de Pascal à n rangées = \"))\n",
        "tr_pascal = triangle_pascal2(n)\n",
        "display_with_list(tr_pascal)"
      ],
      "execution_count": null,
      "outputs": []
    },
    {
      "cell_type": "code",
      "metadata": {
        "id": "pdQTx2O70g9l"
      },
      "source": [
        "n = int(input(\"Afficher le triangle de Pascal à n rangées = \"))\n",
        "tr_pascal = triangle_pascal2(n)\n",
        "display_with_range(tr_pascal, n)"
      ],
      "execution_count": null,
      "outputs": []
    }
  ]
}